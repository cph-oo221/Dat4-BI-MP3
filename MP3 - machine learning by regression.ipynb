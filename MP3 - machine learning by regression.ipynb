{
 "cells": [
  {
   "cell_type": "markdown",
   "id": "a4900685",
   "metadata": {},
   "source": [
    "# MP3"
   ]
  },
  {
   "cell_type": "code",
   "execution_count": null,
   "id": "72b87842",
   "metadata": {},
   "outputs": [],
   "source": [
    "import pandas as pd\n",
    "import numpy as np\n",
    "import matplotlib.pyplot as plt\n",
    "import seaborn as sns\n",
    "from sklearn.model_selection import train_test_split\n",
    "from sklearn.linear_model import LinearRegression\n",
    "from sklearn import metrics\n",
    "from sklearn.preprocessing import PolynomialFeatures\n",
    "\n",
    "from sklearn.preprocessing import StandardScaler\n",
    "from sklearn import preprocessing as prep\n",
    "from sklearn.decomposition import PCA\n",
    "\n",
    "import pickle"
   ]
  },
  {
   "cell_type": "code",
   "execution_count": null,
   "id": "185e8fbe",
   "metadata": {},
   "outputs": [],
   "source": [
    "# read into dataframe from csv\n",
    "df = pd.read_csv('./data/house-data.csv', index_col=None, na_values=['NA'])\n",
    "df.shape"
   ]
  },
  {
   "cell_type": "code",
   "execution_count": null,
   "id": "13db6218",
   "metadata": {},
   "outputs": [],
   "source": [
    "df.head()"
   ]
  },
  {
   "cell_type": "markdown",
   "id": "6d22ed01",
   "metadata": {},
   "source": [
    "## Cleaning tha dataframe"
   ]
  },
  {
   "cell_type": "code",
   "execution_count": null,
   "id": "14e4e183",
   "metadata": {},
   "outputs": [],
   "source": [
    "# listing all headers\n",
    "list(df)"
   ]
  },
  {
   "cell_type": "code",
   "execution_count": null,
   "id": "962878c5",
   "metadata": {},
   "outputs": [],
   "source": [
    "# count missing values\n",
    "df.isnull().sum()"
   ]
  },
  {
   "cell_type": "code",
   "execution_count": null,
   "id": "9ed75e8b",
   "metadata": {},
   "outputs": [],
   "source": [
    "df.describe()"
   ]
  },
  {
   "cell_type": "code",
   "execution_count": null,
   "id": "2737bea5",
   "metadata": {},
   "outputs": [],
   "source": [
    "df.info()"
   ]
  },
  {
   "cell_type": "code",
   "execution_count": null,
   "id": "6fa8ae3a",
   "metadata": {},
   "outputs": [],
   "source": [
    "# if you want to change the format, for example to avoid scientific notation, e.g. e+04\n",
    "pd.set_option('display.float_format', lambda x: '%.3f' % x)"
   ]
  },
  {
   "cell_type": "code",
   "execution_count": null,
   "id": "93f450ca",
   "metadata": {},
   "outputs": [],
   "source": [
    "df.sample(3)"
   ]
  },
  {
   "cell_type": "markdown",
   "id": "5d0a28eb",
   "metadata": {},
   "source": [
    "### Drop unnecessary columns"
   ]
  },
  {
   "cell_type": "code",
   "execution_count": null,
   "id": "24774120",
   "metadata": {},
   "outputs": [],
   "source": [
    "df = df.drop(['id', 'date', 'zipcode', 'yr_renovated', 'sqft_living15', 'sqft_lot15', 'sqft_basement'], axis=1)"
   ]
  },
  {
   "cell_type": "code",
   "execution_count": null,
   "id": "e405cc9c",
   "metadata": {},
   "outputs": [],
   "source": [
    "df"
   ]
  },
  {
   "cell_type": "markdown",
   "id": "77725504",
   "metadata": {},
   "source": [
    "### Turn weirdly continuus values into nominal values"
   ]
  },
  {
   "cell_type": "code",
   "execution_count": null,
   "id": "2f3f853a",
   "metadata": {},
   "outputs": [],
   "source": [
    "df['bathrooms'] = df['bathrooms'].apply(np.floor).astype(int)\n",
    "df['floors'] = df['floors'].apply(np.floor).astype(int)\n",
    "df"
   ]
  },
  {
   "cell_type": "markdown",
   "id": "a4f3228e",
   "metadata": {},
   "source": [
    "### Dealing with outliers"
   ]
  },
  {
   "cell_type": "code",
   "execution_count": null,
   "id": "e4ecf42f",
   "metadata": {},
   "outputs": [],
   "source": [
    "df.plot.box()"
   ]
  },
  {
   "cell_type": "code",
   "execution_count": null,
   "id": "2b1d3dd0",
   "metadata": {},
   "outputs": [],
   "source": [
    "df.price.plot.box()"
   ]
  },
  {
   "cell_type": "code",
   "execution_count": null,
   "id": "9317911c",
   "metadata": {},
   "outputs": [],
   "source": [
    "df.price.plot.density()"
   ]
  },
  {
   "cell_type": "code",
   "execution_count": null,
   "id": "ffa25608",
   "metadata": {},
   "outputs": [],
   "source": [
    "factor = 1.2\n",
    "upper_lim = df['price'].mean () + df['price'].std () * factor\n",
    "lower_lim = df['price'].mean () - df['price'].std () * factor\n",
    "\n",
    "no_outliers = df[(df['price'] < upper_lim) & (df['price'] > lower_lim)]\n",
    "\n",
    "outliers = df[(df['price'] > upper_lim) | (df['price'] < lower_lim)]\n",
    "df = no_outliers\n",
    "outliers"
   ]
  },
  {
   "cell_type": "code",
   "execution_count": null,
   "id": "e3ef4a32",
   "metadata": {},
   "outputs": [],
   "source": [
    "df"
   ]
  },
  {
   "cell_type": "code",
   "execution_count": null,
   "id": "f451720c",
   "metadata": {},
   "outputs": [],
   "source": [
    "df.price.plot.density()"
   ]
  },
  {
   "cell_type": "code",
   "execution_count": null,
   "id": "c0503c2f",
   "metadata": {},
   "outputs": [],
   "source": [
    "df.sqft_lot.plot.box()"
   ]
  },
  {
   "cell_type": "code",
   "execution_count": null,
   "id": "dad98379",
   "metadata": {},
   "outputs": [],
   "source": [
    "factor = 0.5\n",
    "upper_lim = df['sqft_lot'].mean () + df['sqft_lot'].std () * factor\n",
    "lower_lim = df['sqft_lot'].mean () - df['sqft_lot'].std () * factor\n",
    "\n",
    "no_outliers = df[(df['sqft_lot'] < upper_lim) & (df['sqft_lot'] > lower_lim)]\n",
    "no_outliers.sqft_lot.plot.box()"
   ]
  },
  {
   "cell_type": "code",
   "execution_count": null,
   "id": "61a565f3",
   "metadata": {},
   "outputs": [],
   "source": [
    "df = no_outliers.reset_index()\n",
    "df"
   ]
  },
  {
   "cell_type": "code",
   "execution_count": null,
   "id": "7de33235",
   "metadata": {},
   "outputs": [],
   "source": [
    "df.plot.box()"
   ]
  },
  {
   "cell_type": "markdown",
   "id": "5ecfaf5c",
   "metadata": {},
   "source": [
    "## Data exploration"
   ]
  },
  {
   "cell_type": "markdown",
   "id": "5fee7e10",
   "metadata": {},
   "source": [
    "### Check the distribution"
   ]
  },
  {
   "cell_type": "code",
   "execution_count": null,
   "id": "543ee388",
   "metadata": {},
   "outputs": [],
   "source": [
    "df = df.drop(['lat', 'long', 'index'], axis=1)\n",
    "df.hist()"
   ]
  },
  {
   "cell_type": "markdown",
   "id": "76c095ff",
   "metadata": {},
   "source": [
    "It seems that a lot of the features follows a kind of normal distribution.\n",
    "\n",
    "Lets se if we can find some correlations"
   ]
  },
  {
   "cell_type": "code",
   "execution_count": null,
   "id": "2315bc4c",
   "metadata": {},
   "outputs": [],
   "source": [
    "corr_matrix = df.corr()\n",
    "corr_matrix"
   ]
  },
  {
   "cell_type": "code",
   "execution_count": null,
   "id": "cc967c53",
   "metadata": {},
   "outputs": [],
   "source": [
    "plt.figure(figsize=(10,6))\n",
    "sns.heatmap(corr_matrix, annot=True, square=True, fmt=\".2f\")\n",
    "plt.show()"
   ]
  },
  {
   "cell_type": "markdown",
   "id": "72d2cf69-55ba-41ee-bac2-74d03f9cfd49",
   "metadata": {},
   "source": [
    "When looking at price we can see that the higest correlations is grade with 0.59 and the smallest is sqft_lot with only 0.02 which means there is almost not any correlation between the two.\n",
    "\n",
    "We can also see that the price correlates highly with square foot living space, the grade of the house, and to a lesser extent the amount of bathrooms in the house."
   ]
  },
  {
   "cell_type": "code",
   "execution_count": null,
   "id": "74e79bbb-0bb4-43f9-b5bd-6e21300af838",
   "metadata": {},
   "outputs": [],
   "source": [
    "corr_matrix['price']"
   ]
  },
  {
   "cell_type": "markdown",
   "id": "4df99db3-07c6-42c7-8e2a-c97958cd74ac",
   "metadata": {},
   "source": [
    "Least informative attributes, potentiale for removal, if the model is inaccurate:\n",
    "\n",
    "* sqft_lot (0.017)\n",
    "* yr_built (0.032)\n",
    "* condition (0.036)\n",
    "* waterfront (0.048)"
   ]
  },
  {
   "cell_type": "markdown",
   "id": "69d61fe9-3201-4eba-8de3-dc44334f4be7",
   "metadata": {},
   "source": [
    "### Training a linear regression model"
   ]
  },
  {
   "cell_type": "code",
   "execution_count": null,
   "id": "4e1f9449-17c8-4252-aa0e-6524a9af50b7",
   "metadata": {},
   "outputs": [],
   "source": [
    "X = df['grade'].values.reshape(-1, 1)\n",
    "y = df['price'].values.reshape(-1, 1)"
   ]
  },
  {
   "cell_type": "code",
   "execution_count": null,
   "id": "a33ae14c-4ccb-4202-bed6-f7862d9a7246",
   "metadata": {},
   "outputs": [],
   "source": [
    "# Scatter plot for grade & price:\n",
    "plt.ylabel('price')\n",
    "plt.xlabel('grade')\n",
    "plt.scatter(X, y, color='blue')\n",
    "plt.show()"
   ]
  },
  {
   "cell_type": "code",
   "execution_count": null,
   "id": "862725aa-e00f-403e-b51f-4a394cea7a65",
   "metadata": {},
   "outputs": [],
   "source": [
    "# random_state (kwargs, att.) = We set to 123, so we get the same split of data every time, wich makes it easier\n",
    "# for debugging and testing, because it allows you to get consistent results when you \n",
    "# run the code multiple times \n",
    "\n",
    "X_train, X_test, y_train, y_test = train_test_split(X, y, random_state=123, test_size=0.25) "
   ]
  },
  {
   "cell_type": "code",
   "execution_count": null,
   "id": "b17214c6-6659-416e-97fb-b6877af8960d",
   "metadata": {},
   "outputs": [],
   "source": [
    "# The shape of each subsets (train & test):\n",
    "print(X_train.shape)\n",
    "print(y_train.shape)\n",
    "print(X_test.shape)\n",
    "print(y_test.shape)"
   ]
  },
  {
   "cell_type": "code",
   "execution_count": null,
   "id": "e0f33791-208e-4773-89f9-694d1301fe51",
   "metadata": {},
   "outputs": [],
   "source": [
    "# Instance of linear regression:\n",
    "myreg = LinearRegression()"
   ]
  },
  {
   "cell_type": "code",
   "execution_count": null,
   "id": "82b4dd61-07d5-4e8d-91d7-7a6ecc58707c",
   "metadata": {},
   "outputs": [],
   "source": [
    "myreg.fit(X_train, y_train)\n",
    "myreg"
   ]
  },
  {
   "cell_type": "code",
   "execution_count": null,
   "id": "ee1b72cc-f797-4bfe-9c85-810dfc9a0e41",
   "metadata": {},
   "outputs": [],
   "source": [
    "a = myreg.coef_\n",
    "b = myreg.intercept_\n",
    "\n",
    "print(f'coef: {a}')\n",
    "print(f'intercept: {b}')"
   ]
  },
  {
   "cell_type": "code",
   "execution_count": null,
   "id": "70d11f24-b2e0-43ea-88eb-ee4ec3415e62",
   "metadata": {},
   "outputs": [],
   "source": [
    "y_predicted = myreg.predict(X_test)\n",
    "y_predicted"
   ]
  },
  {
   "cell_type": "code",
   "execution_count": null,
   "id": "66295eee-dcc8-4b7e-848d-4deb46a5aa28",
   "metadata": {},
   "outputs": [],
   "source": [
    "y_test"
   ]
  },
  {
   "cell_type": "code",
   "execution_count": null,
   "id": "86a67940-407d-4b15-8a15-44ec5c0635b7",
   "metadata": {},
   "outputs": [],
   "source": [
    "# Visualise the Linear Regression \n",
    "plt.title('Linear Regression')\n",
    "plt.scatter(X, y, color='green')\n",
    "plt.plot(X_train, a*X_train + b, color='blue')\n",
    "plt.plot(X_test, y_predicted, color='orange')\n",
    "plt.xlabel('grade')\n",
    "plt.ylabel('price')\n",
    "plt.show()"
   ]
  },
  {
   "cell_type": "code",
   "execution_count": null,
   "id": "eea0da68-9a40-4a9e-9b60-c372b5042608",
   "metadata": {},
   "outputs": [],
   "source": [
    "R2 = myreg.score(X, y)\n",
    "R2"
   ]
  },
  {
   "cell_type": "code",
   "execution_count": null,
   "id": "9fc4fe27-121a-4c59-a371-1967eb022775",
   "metadata": {},
   "outputs": [],
   "source": [
    "mae = metrics.mean_absolute_error(y_test, y_predicted)\n",
    "print(mae)\n",
    "\n",
    "mse = metrics.mean_squared_error(y_test, y_predicted)\n",
    "print(mse)\n",
    "\n",
    "rmse = np.sqrt(metrics.mean_squared_error(y_test, y_predicted))\n",
    "print(rmse)"
   ]
  },
  {
   "cell_type": "code",
   "execution_count": null,
   "id": "74cd22cb-8058-4f77-8be0-e7570dc59beb",
   "metadata": {},
   "outputs": [],
   "source": [
    "import sys\n",
    "sys.path.append('./util')\n",
    "\n",
    "from testForReg import bestLinReg\n"
   ]
  },
  {
   "cell_type": "code",
   "execution_count": null,
   "id": "c3f276fe-a97d-4f5a-bda5-02e4065c27e5",
   "metadata": {},
   "outputs": [],
   "source": [
    "# Linear regression between 'x' (one col at a time) and 'y' the price:\n",
    "df_linReg = bestLinReg(df, 'price')\n",
    "df_linReg"
   ]
  },
  {
   "cell_type": "code",
   "execution_count": null,
   "id": "c9d55c43-4ead-4323-a345-6331679c5c4d",
   "metadata": {},
   "outputs": [],
   "source": [
    "# Real representation of R2\n",
    "for index, value in df_linReg['R2'].items():\n",
    "    print(f\"Index: {index}, Value: {value}\")"
   ]
  },
  {
   "cell_type": "markdown",
   "id": "ec4adc20-8565-476c-a221-0cc1b6cd30e4",
   "metadata": {},
   "source": [
    "It seems that the data is not fit to do linear regression, when tryed on each cols (x) one at a time compared to price (y),\n",
    "the higgest accuracy is 35.29% between grade and price."
   ]
  },
  {
   "cell_type": "markdown",
   "id": "d9ffd77e",
   "metadata": {},
   "source": [
    "### Training a multiple feature linear regression model"
   ]
  },
  {
   "cell_type": "code",
   "execution_count": null,
   "id": "490d7ea2",
   "metadata": {},
   "outputs": [],
   "source": [
    "x_params = df.columns[1:]"
   ]
  },
  {
   "cell_type": "code",
   "execution_count": null,
   "id": "b42f746a",
   "metadata": {},
   "outputs": [],
   "source": [
    "X = df[x_params]\n",
    "X"
   ]
  },
  {
   "cell_type": "code",
   "execution_count": null,
   "id": "700faf6b",
   "metadata": {},
   "outputs": [],
   "source": [
    "y = df['price']\n",
    "y"
   ]
  },
  {
   "cell_type": "code",
   "execution_count": null,
   "id": "faeeedeb",
   "metadata": {},
   "outputs": [],
   "source": [
    "X_train, X_test, y_train, y_test = train_test_split(X, y, test_size=0.25, random_state=1)"
   ]
  },
  {
   "cell_type": "code",
   "execution_count": null,
   "id": "7587053d",
   "metadata": {},
   "outputs": [],
   "source": [
    "print(X_train.shape)"
   ]
  },
  {
   "cell_type": "code",
   "execution_count": null,
   "id": "f03aa083",
   "metadata": {},
   "outputs": [],
   "source": [
    "linreg = LinearRegression()\n",
    "linreg.fit(X_train, y_train)"
   ]
  },
  {
   "cell_type": "code",
   "execution_count": null,
   "id": "90204276",
   "metadata": {},
   "outputs": [],
   "source": [
    "list(zip(x_params, linreg.coef_))"
   ]
  },
  {
   "cell_type": "markdown",
   "id": "8e0992a2",
   "metadata": {},
   "source": [
    "### Testing model"
   ]
  },
  {
   "cell_type": "code",
   "execution_count": null,
   "id": "7fd5da76",
   "metadata": {},
   "outputs": [],
   "source": [
    "y_test"
   ]
  },
  {
   "cell_type": "code",
   "execution_count": null,
   "id": "36206a49",
   "metadata": {},
   "outputs": [],
   "source": [
    "y_predicted = linreg.predict(X_test)"
   ]
  },
  {
   "cell_type": "code",
   "execution_count": null,
   "id": "b3b8608e",
   "metadata": {},
   "outputs": [],
   "source": [
    "y_predicted"
   ]
  },
  {
   "cell_type": "markdown",
   "id": "445cf30d",
   "metadata": {},
   "source": [
    "MSE test"
   ]
  },
  {
   "cell_type": "code",
   "execution_count": null,
   "id": "7bfe1806",
   "metadata": {},
   "outputs": [],
   "source": [
    "print(np.sqrt(metrics.mean_squared_error(y_test, y_predicted)))"
   ]
  },
  {
   "cell_type": "markdown",
   "id": "2abc1420",
   "metadata": {},
   "source": [
    "R-squared test"
   ]
  },
  {
   "cell_type": "code",
   "execution_count": null,
   "id": "02ab8f69",
   "metadata": {},
   "outputs": [],
   "source": [
    "eV = round(metrics.explained_variance_score(y_test, y_predicted), 6)\n",
    "print('Explained variance score', eV)"
   ]
  },
  {
   "cell_type": "code",
   "execution_count": null,
   "id": "349ae5af",
   "metadata": {},
   "outputs": [],
   "source": [
    "metrics.r2_score(y_test, y_predicted)"
   ]
  },
  {
   "cell_type": "code",
   "execution_count": null,
   "id": "132be252",
   "metadata": {},
   "outputs": [],
   "source": [
    "plt.title('Linear regression model')\n",
    "plt.scatter(y_test, y_predicted, color='green')\n",
    "plt.show()"
   ]
  },
  {
   "cell_type": "code",
   "execution_count": null,
   "id": "4d02c8a9-5f2d-4d3c-af31-750eeab59489",
   "metadata": {},
   "outputs": [],
   "source": [
    "model_store = linreg"
   ]
  },
  {
   "cell_type": "markdown",
   "id": "adef374f",
   "metadata": {},
   "source": [
    "### Let's try to make the model better\n",
    "By focusing on the features that have the highest correlation with price"
   ]
  },
  {
   "cell_type": "code",
   "execution_count": null,
   "id": "1649f650",
   "metadata": {},
   "outputs": [],
   "source": [
    "x_params = ['sqft_living', 'sqft_above', 'grade']\n",
    "sns.pairplot(df, x_vars=x_params, y_vars='price', height=7, kind='reg')"
   ]
  },
  {
   "cell_type": "code",
   "execution_count": null,
   "id": "c7be33c5",
   "metadata": {},
   "outputs": [],
   "source": [
    "X = df[x_params]\n",
    "X"
   ]
  },
  {
   "cell_type": "code",
   "execution_count": null,
   "id": "4f152329",
   "metadata": {},
   "outputs": [],
   "source": [
    "y = df['price']\n",
    "y"
   ]
  },
  {
   "cell_type": "code",
   "execution_count": null,
   "id": "9f574b69",
   "metadata": {},
   "outputs": [],
   "source": [
    "X_train, X_test, y_train, y_test = train_test_split(X, y, test_size=0.25, random_state=1)"
   ]
  },
  {
   "cell_type": "code",
   "execution_count": null,
   "id": "4c53d4e0",
   "metadata": {},
   "outputs": [],
   "source": [
    "linreg = LinearRegression()\n",
    "linreg.fit(X_train, y_train)"
   ]
  },
  {
   "cell_type": "code",
   "execution_count": null,
   "id": "1d941804",
   "metadata": {},
   "outputs": [],
   "source": [
    "y_predicted = linreg.predict(X_test)"
   ]
  },
  {
   "cell_type": "code",
   "execution_count": null,
   "id": "fdfd9951",
   "metadata": {},
   "outputs": [],
   "source": [
    "eV = round(metrics.explained_variance_score(y_test, y_predicted), 6)\n",
    "print('Explained variance score', eV)"
   ]
  },
  {
   "cell_type": "code",
   "execution_count": null,
   "id": "f9959911",
   "metadata": {},
   "outputs": [],
   "source": [
    "plt.title('Linear regression model with reduced features')\n",
    "plt.scatter(y_test, y_predicted, color='green')\n",
    "plt.show()"
   ]
  },
  {
   "cell_type": "markdown",
   "id": "96e83ccb",
   "metadata": {},
   "source": [
    "Hmm that did not seem to help the accuracy of the model. Ithas been reduced around 13% since the reduction of features.\n",
    "We'll try only removing features which have very low correlation wih price"
   ]
  },
  {
   "cell_type": "code",
   "execution_count": null,
   "id": "1a2e7412",
   "metadata": {},
   "outputs": [],
   "source": [
    "x_params = ['sqft_living', 'sqft_above', 'grade', 'bedrooms', 'bathrooms', 'floors', 'view']\n",
    "X = df[x_params]\n",
    "X"
   ]
  },
  {
   "cell_type": "code",
   "execution_count": null,
   "id": "b5ef414b",
   "metadata": {},
   "outputs": [],
   "source": [
    "X_train, X_test, y_train, y_test = train_test_split(X, y, test_size=0.25, random_state=1)"
   ]
  },
  {
   "cell_type": "code",
   "execution_count": null,
   "id": "a25d6d94",
   "metadata": {},
   "outputs": [],
   "source": [
    "linreg = LinearRegression()\n",
    "linreg.fit(X_train, y_train)"
   ]
  },
  {
   "cell_type": "code",
   "execution_count": null,
   "id": "2d49232f",
   "metadata": {},
   "outputs": [],
   "source": [
    "y_predicted = linreg.predict(X_test)"
   ]
  },
  {
   "cell_type": "code",
   "execution_count": null,
   "id": "b66c27ae",
   "metadata": {},
   "outputs": [],
   "source": [
    "eV = round(metrics.explained_variance_score(y_test, y_predicted), 6)\n",
    "print('Explained variance score', eV)"
   ]
  },
  {
   "cell_type": "code",
   "execution_count": null,
   "id": "aec2b660",
   "metadata": {},
   "outputs": [],
   "source": [
    "plt.title('Linear regression model with least correlating features removed')\n",
    "plt.scatter(y_test, y_predicted, color='green')\n",
    "plt.show()"
   ]
  },
  {
   "cell_type": "markdown",
   "id": "d0d8cd3c",
   "metadata": {},
   "source": [
    "Looks like a linear regression model works best with all features!"
   ]
  },
  {
   "cell_type": "markdown",
   "id": "4bf7bb6a",
   "metadata": {},
   "source": [
    "### Polynomial model"
   ]
  },
  {
   "cell_type": "code",
   "execution_count": null,
   "id": "e688f700",
   "metadata": {},
   "outputs": [],
   "source": [
    "# X_params = df.columns[1:]\n",
    "X = df[x_params].values\n",
    "X"
   ]
  },
  {
   "cell_type": "code",
   "execution_count": null,
   "id": "08e14205",
   "metadata": {},
   "outputs": [],
   "source": [
    "y = df['price'].values\n",
    "y"
   ]
  },
  {
   "cell_type": "code",
   "execution_count": null,
   "id": "05a80c5f",
   "metadata": {},
   "outputs": [],
   "source": [
    "X_train, X_test, y_train, y_test = train_test_split(X, y, test_size=0.2, random_state=42)"
   ]
  },
  {
   "cell_type": "code",
   "execution_count": null,
   "id": "e9f9867a",
   "metadata": {},
   "outputs": [],
   "source": [
    "poly_model = PolynomialFeatures(degree=3)\n",
    "X_poly_train = poly_model.fit_transform(X_train)\n",
    "X_poly_test = poly_model.transform(X_test)\n",
    "pol_reg = LinearRegression()\n",
    "pol_reg.fit(X_poly_train, y_train)"
   ]
  },
  {
   "cell_type": "code",
   "execution_count": null,
   "id": "0662fed1",
   "metadata": {},
   "outputs": [],
   "source": [
    "y_predict = pol_reg.predict(X_poly_test)"
   ]
  },
  {
   "cell_type": "code",
   "execution_count": null,
   "id": "4f5891ee",
   "metadata": {},
   "outputs": [],
   "source": [
    "y_predict"
   ]
  },
  {
   "cell_type": "code",
   "execution_count": null,
   "id": "c143351e",
   "metadata": {},
   "outputs": [],
   "source": [
    "eV = round(metrics.explained_variance_score(y_test, y_predict), 6)\n",
    "print('Explained variance score', eV)"
   ]
  },
  {
   "cell_type": "code",
   "execution_count": null,
   "id": "bd0a6241",
   "metadata": {},
   "outputs": [],
   "source": [
    "plt.figure(figsize=(10, 6))\n",
    "plt.plot(y_test, label='Actual (Testing)', color='green')\n",
    "plt.plot(y_predict, label='Predicted (Testing)', color='red', linestyle='--')\n",
    "plt.xlabel('Index')\n",
    "plt.ylabel('Values')\n",
    "plt.title('Actual vs Predicted (Testing)')\n",
    "plt.legend()\n",
    "plt.show()"
   ]
  },
  {
   "cell_type": "markdown",
   "id": "5cdadab1",
   "metadata": {},
   "source": [
    "Closest to overtake, but no luck!"
   ]
  },
  {
   "cell_type": "markdown",
   "id": "80d27030",
   "metadata": {},
   "source": [
    "## Further improvement: PCA\n",
    "\n",
    "Now We have built and selected our model which can predict prices of houses based on the input data, but can we make a more accurate model by trying to reduce the dimensionality of the data?\n",
    "This will introduce a whole new set of problems, but let's see if we can make a more accurate prediction model"
   ]
  },
  {
   "cell_type": "code",
   "execution_count": null,
   "id": "54b7aa88",
   "metadata": {},
   "outputs": [],
   "source": [
    "X = df[x_params]\n",
    "X"
   ]
  },
  {
   "cell_type": "code",
   "execution_count": null,
   "id": "17e19aca",
   "metadata": {},
   "outputs": [],
   "source": [
    "# Convert data frame to array\n",
    "X = X.values\n",
    "X"
   ]
  },
  {
   "cell_type": "code",
   "execution_count": null,
   "id": "15723f92",
   "metadata": {},
   "outputs": [],
   "source": [
    "# Plot the data\n",
    "plt.figure()\n",
    "plt.title('Input data')\n",
    "\n",
    "# calculate the range of coordinates\n",
    "x_min, x_max = X[:, 0].min() - 1, X[:, 0].max() + 1\n",
    "y_min, y_max = X[:, 1].min() - 1, X[:, 1].max() + 1\n",
    "\n",
    "# plot coordinates\n",
    "plt.xlim(x_min, x_max)\n",
    "plt.ylim(y_min, y_max)\n",
    "\n",
    "# plot the points\n",
    "plt.scatter(X[:,0], X[:,1], color='black', s=80, marker='o', facecolors='none')\n",
    "\n",
    "plt.show()"
   ]
  },
  {
   "cell_type": "code",
   "execution_count": null,
   "id": "ee605233",
   "metadata": {},
   "outputs": [],
   "source": [
    "# Normalize data by l1 method\n",
    "nl2 = prep.normalize(X, norm='l1')\n",
    "nl2"
   ]
  },
  {
   "cell_type": "code",
   "execution_count": null,
   "id": "5e311978",
   "metadata": {},
   "outputs": [],
   "source": [
    "# Use min-max scaling, since a lot of the features does not follow gaussian distribution\n",
    "mmsc = prep.MinMaxScaler()\n",
    "X = mmsc.fit_transform(X)  \n",
    "X"
   ]
  },
  {
   "cell_type": "code",
   "execution_count": null,
   "id": "7ab9cced",
   "metadata": {},
   "outputs": [],
   "source": [
    "comp_amount = 4\n",
    "pca = PCA(n_components=comp_amount)\n",
    "pca_X = pca.fit_transform(X)\n",
    "pca_X"
   ]
  },
  {
   "cell_type": "code",
   "execution_count": null,
   "id": "69d02c40",
   "metadata": {},
   "outputs": [],
   "source": [
    "cols = []\n",
    "for i in range(comp_amount):\n",
    "    cols.append(f'pc {i +1}')\n",
    "\n",
    "\n",
    "pcadf = pd.DataFrame(data = pca_data, columns = cols)\n",
    "pcadf"
   ]
  },
  {
   "cell_type": "code",
   "execution_count": null,
   "id": "b00672c4",
   "metadata": {},
   "outputs": [],
   "source": [
    "explained_variance = pca.explained_variance_ratio_  \n",
    "explained_variance"
   ]
  },
  {
   "cell_type": "code",
   "execution_count": null,
   "id": "f344d2e7",
   "metadata": {},
   "outputs": [],
   "source": [
    "# Plot the explained_variance\n",
    "plt.plot(explained_variance, 'bx-', c='red')\n",
    "plt.xlabel('component')\n",
    "plt.ylabel('variance')\n",
    "plt.title('The optimal number of components')\n",
    "plt.show()\n"
   ]
  },
  {
   "cell_type": "code",
   "execution_count": null,
   "id": "204e8716",
   "metadata": {},
   "outputs": [],
   "source": [
    "# Plot the cumulative explained_variance\n",
    "cumulative = np.cumsum(explained_variance)\n",
    "plt.plot(cumulative, 'b*-', c='green')\n",
    "plt.xlabel('components')\n",
    "plt.ylabel('cumulative')\n",
    "plt.title('The optimal number of components')\n",
    "plt.show()"
   ]
  },
  {
   "cell_type": "code",
   "execution_count": null,
   "id": "159cdf7f",
   "metadata": {},
   "outputs": [],
   "source": [
    "# amount of initial features\n",
    "len(x_params)"
   ]
  },
  {
   "cell_type": "markdown",
   "id": "1d8e9fde",
   "metadata": {},
   "source": [
    "So it seems that we can cover around 97% of the datasets variance with 4 principal components instead of the original 7 feaures. Lets see how the so far best predicting model type handles this"
   ]
  },
  {
   "cell_type": "code",
   "execution_count": null,
   "id": "f0715001",
   "metadata": {},
   "outputs": [],
   "source": [
    "X_train, X_test, y_train, y_test = train_test_split(pca_X, y, test_size=0.2, random_state=42)"
   ]
  },
  {
   "cell_type": "code",
   "execution_count": null,
   "id": "5be3ed40",
   "metadata": {},
   "outputs": [],
   "source": [
    "model = LinearRegression()\n",
    "model.fit(X_train, y_train)"
   ]
  },
  {
   "cell_type": "code",
   "execution_count": null,
   "id": "b8bb5d04",
   "metadata": {},
   "outputs": [],
   "source": [
    "y_pred = model.predict(X_test)\n",
    "r2 = metrics.r2_score(y_test, y_pred)\n",
    "print('Explained Variance: ', r2)"
   ]
  },
  {
   "cell_type": "code",
   "execution_count": null,
   "id": "eaa20c9c",
   "metadata": {},
   "outputs": [],
   "source": [
    "mse = metrics.mean_squared_error(y_test, y_pred)\n",
    "print(mse)\n"
   ]
  },
  {
   "cell_type": "markdown",
   "id": "6b150af0",
   "metadata": {},
   "source": [
    "This is not good at all! The model acually became one of the worst performing!"
   ]
  },
  {
   "cell_type": "markdown",
   "id": "6e68fcf7",
   "metadata": {},
   "source": [
    "## Conclusion\n",
    "\n",
    "**R² Scoreboard ranked**\n",
    "\n",
    "- Linear regression model with all slightly relevant features:\n",
    "0.55\n",
    "\n",
    "- Linear regression model with 3 degree polynomial features:\n",
    "0.47\n",
    "\n",
    "- Linear regression model with 4 lowest correlating features removed:\n",
    "0.43\n",
    "\n",
    "- Linear regression model with 3 highest correlating features:\n",
    "0.42\n",
    "\n",
    "- Linear regression model with reduced dimensionality by PCA:\n",
    "0.39\n",
    "\n",
    "- Linear regression model with highest correlation feature (grade):\n",
    "0.35\n",
    "\n",
    "\n",
    "It seems that the regression model that is best able to predict prices is the multiple parameter linear regression model with an r² score of 0.55. It's something, but not that accurate!"
   ]
  },
  {
   "cell_type": "markdown",
   "id": "485b0f1f",
   "metadata": {},
   "source": [
    "## Save the best fitted model for future use:"
   ]
  },
  {
   "cell_type": "code",
   "execution_count": null,
   "id": "658c7700",
   "metadata": {},
   "outputs": [],
   "source": [
    "model_store_location = './deploy/regmodel.pkl'"
   ]
  },
  {
   "cell_type": "code",
   "execution_count": null,
   "id": "1540d457",
   "metadata": {},
   "outputs": [],
   "source": [
    "with open(model_store_location, 'wb') as f:\n",
    "    pickle.dump(model_store, f)"
   ]
  },
  {
   "cell_type": "code",
   "execution_count": null,
   "id": "0ba74986",
   "metadata": {},
   "outputs": [],
   "source": [
    "with open(model_store_location, 'rb') as f:\n",
    "    mymodel = pickle.load(f)"
   ]
  },
  {
   "cell_type": "markdown",
   "id": "ea91c451",
   "metadata": {},
   "source": [
    "### Test stored model"
   ]
  },
  {
   "cell_type": "code",
   "execution_count": null,
   "id": "480d67f2",
   "metadata": {},
   "outputs": [],
   "source": [
    "x_new = pd.DataFrame({'bedrooms' : [3],'bathrooms' : [2], 'sqft_living' : [1500],'sqft_lot' : [6750], 'floors' : [2], 'waterfront' : [0],  'view' : [0], 'condition' : [3], 'grade' : [7], 'sqft_above' : [1500], 'yr_built' : [2007]})\n",
    "price = mymodel.predict(x_new)\n",
    "print(price)"
   ]
  }
 ],
 "metadata": {
  "kernelspec": {
   "display_name": "Python 3 (ipykernel)",
   "language": "python",
   "name": "python3"
  },
  "language_info": {
   "codemirror_mode": {
    "name": "ipython",
    "version": 3
   },
   "file_extension": ".py",
   "mimetype": "text/x-python",
   "name": "python",
   "nbconvert_exporter": "python",
   "pygments_lexer": "ipython3",
   "version": "3.11.5"
  }
 },
 "nbformat": 4,
 "nbformat_minor": 5
}
