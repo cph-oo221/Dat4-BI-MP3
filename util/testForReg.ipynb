{
 "cells": [
  {
   "cell_type": "code",
   "execution_count": 8,
   "id": "c4f514d9-3510-4dac-9595-6dd6e1cc2467",
   "metadata": {},
   "outputs": [
    {
     "name": "stdout",
     "output_type": "stream",
     "text": [
      "Overwriting testForReg.py\n"
     ]
    }
   ],
   "source": [
    "%%writefile testForReg.py\n",
    "\n",
    "from sklearn.model_selection import train_test_split\n",
    "from sklearn.linear_model import LinearRegression\n",
    "import pandas as pd\n",
    "\n",
    "\n",
    "def allCols(df, y):\n",
    "    colList = []\n",
    "    for col in df.columns:\n",
    "        if col != y:\n",
    "            colList.append(col)\n",
    "    return colList\n",
    "    \n",
    "\n",
    "def bestLinReg(df, y):\n",
    "    \n",
    "    y_val = df[y].values.reshape(-1, 1)\n",
    "    col = allCols(df, y)\n",
    "\n",
    "    res_df = pd.DataFrame(columns=['x', 'R2', 'coef', 'intercept', 'y_predicted'])\n",
    "    \n",
    "    for col_name in col:\n",
    "        \n",
    "        X = df[col_name].values.reshape(-1, 1)\n",
    "\n",
    "        X_train, X_test, y_train, y_test = train_test_split(X, y_val, random_state=123, test_size=0.25)\n",
    "\n",
    "        myreg = LinearRegression()\n",
    "        myreg.fit(X_train, y_train)\n",
    "\n",
    "        a = myreg.coef_\n",
    "        b = myreg.intercept_\n",
    "\n",
    "        y_predicted = myreg.predict(X_test)\n",
    "\n",
    "        R2 = myreg.score(X, y_val)\n",
    "\n",
    "        \n",
    "        res_df.loc[len(res_df)] = {'x': col_name, 'R2': round(R2, 5), 'coef': a, 'intercept': b, 'y_predicted': y_predicted}\n",
    "        res_df = res_df.sort_values(by='R2', ascending=False)\n",
    "\n",
    "    return res_df "
   ]
  },
  {
   "cell_type": "code",
   "execution_count": null,
   "id": "51e5064d-5506-43da-94a6-a273e1f90be8",
   "metadata": {},
   "outputs": [],
   "source": []
  }
 ],
 "metadata": {
  "kernelspec": {
   "display_name": "Python 3 (ipykernel)",
   "language": "python",
   "name": "python3"
  },
  "language_info": {
   "codemirror_mode": {
    "name": "ipython",
    "version": 3
   },
   "file_extension": ".py",
   "mimetype": "text/x-python",
   "name": "python",
   "nbconvert_exporter": "python",
   "pygments_lexer": "ipython3",
   "version": "3.11.5"
  }
 },
 "nbformat": 4,
 "nbformat_minor": 5
}
