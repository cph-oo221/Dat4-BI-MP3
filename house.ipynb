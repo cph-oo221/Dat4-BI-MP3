{
 "cells": [
  {
   "cell_type": "markdown",
   "id": "5d1d3bf8-3517-4d56-a254-c9896ee85957",
   "metadata": {},
   "source": [
    "# Load Data"
   ]
  },
  {
   "cell_type": "markdown",
   "id": "5192fa1c-3989-45b5-b761-fdb236f4e9b7",
   "metadata": {},
   "source": [
    "# Clean Data"
   ]
  },
  {
   "cell_type": "markdown",
   "id": "60e50b34-cc5a-4304-a15b-b614d708912f",
   "metadata": {},
   "source": [
    "# Explore Data"
   ]
  },
  {
   "cell_type": "markdown",
   "id": "bc4c77d9-591a-4479-ab49-4ae56d5ead73",
   "metadata": {},
   "source": [
    "# PCA (feature engineering)"
   ]
  },
  {
   "cell_type": "markdown",
   "id": "71d4ba3f-bd2d-414e-9fb8-178a600a14b9",
   "metadata": {},
   "source": [
    "# Reduce the dimensionality of the model"
   ]
  },
  {
   "cell_type": "markdown",
   "id": "3876ca78-f8f9-4a19-b02f-eca6a61edc93",
   "metadata": {},
   "source": [
    "# Apply different types of regression models"
   ]
  },
  {
   "cell_type": "markdown",
   "id": "dc3cf288-ee7a-46d0-b3e4-a7e84bfd1fea",
   "metadata": {},
   "source": [
    "## Linear"
   ]
  },
  {
   "cell_type": "markdown",
   "id": "62246c14-2b03-4f5a-97c3-bde19ddcd2f6",
   "metadata": {},
   "source": [
    "## Multiple linear"
   ]
  },
  {
   "cell_type": "markdown",
   "id": "3d8c3397-7499-47c0-b16d-3b6959fccbb6",
   "metadata": {},
   "source": [
    "## Polynomial"
   ]
  },
  {
   "cell_type": "markdown",
   "id": "17a36021-34e5-47ed-aacc-ccb7c9ce0f17",
   "metadata": {},
   "source": [
    "## Compare accuracy in prediction"
   ]
  },
  {
   "cell_type": "markdown",
   "id": "acf5f9ef-5564-4490-ae38-92d5c9ea6655",
   "metadata": {},
   "source": [
    "# Store the best fitted model for future use"
   ]
  },
  {
   "cell_type": "code",
   "execution_count": null,
   "id": "8ec13cb6-4d8a-4097-88ef-9588925f8387",
   "metadata": {},
   "outputs": [],
   "source": []
  }
 ],
 "metadata": {
  "kernelspec": {
   "display_name": "Python 3 (ipykernel)",
   "language": "python",
   "name": "python3"
  },
  "language_info": {
   "codemirror_mode": {
    "name": "ipython",
    "version": 3
   },
   "file_extension": ".py",
   "mimetype": "text/x-python",
   "name": "python",
   "nbconvert_exporter": "python",
   "pygments_lexer": "ipython3",
   "version": "3.11.5"
  }
 },
 "nbformat": 4,
 "nbformat_minor": 5
}
